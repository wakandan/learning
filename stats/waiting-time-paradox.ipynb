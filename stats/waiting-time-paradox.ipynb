{
 "cells": [
  {
   "cell_type": "code",
   "execution_count": 7,
   "metadata": {
    "ExecuteTime": {
     "end_time": "2020-01-03T08:43:24.650953Z",
     "start_time": "2020-01-03T08:43:22.211705Z"
    }
   },
   "outputs": [],
   "source": [
    "import numpy as np\n",
    "import seaborn as sns"
   ]
  },
  {
   "cell_type": "code",
   "execution_count": 4,
   "metadata": {
    "ExecuteTime": {
     "end_time": "2020-01-03T08:41:21.402171Z",
     "start_time": "2020-01-03T08:41:21.276245Z"
    }
   },
   "outputs": [],
   "source": [
    "N = 1000000 # number of buses\n",
    "tau = 10 # avg minutes between arrival\n",
    "\n",
    "rand = np.random.RandomState(42) # random seed\n",
    "bus_arrival_times = N*tau*np.sort(rand.rand(N))"
   ]
  },
  {
   "cell_type": "code",
   "execution_count": 5,
   "metadata": {
    "ExecuteTime": {
     "end_time": "2020-01-03T08:41:27.520671Z",
     "start_time": "2020-01-03T08:41:27.510666Z"
    }
   },
   "outputs": [
    {
     "data": {
      "text/plain": [
       "array([5.18844567e+00, 8.32810562e+00, 2.22729571e+01, ...,\n",
       "       9.99994609e+06, 9.99994930e+06, 9.99998315e+06])"
      ]
     },
     "execution_count": 5,
     "metadata": {},
     "output_type": "execute_result"
    }
   ],
   "source": [
    "bus_arrival_times"
   ]
  },
  {
   "cell_type": "code",
   "execution_count": 6,
   "metadata": {
    "ExecuteTime": {
     "end_time": "2020-01-03T08:41:47.467026Z",
     "start_time": "2020-01-03T08:41:47.461104Z"
    }
   },
   "outputs": [
    {
     "data": {
      "text/plain": [
       "9.99998796015184"
      ]
     },
     "execution_count": 6,
     "metadata": {},
     "output_type": "execute_result"
    }
   ],
   "source": [
    "intervals = np.diff(bus_arrival_times)\n",
    "intervals.mean()"
   ]
  },
  {
   "cell_type": "code",
   "execution_count": 9,
   "metadata": {
    "ExecuteTime": {
     "end_time": "2020-01-03T08:44:23.866913Z",
     "start_time": "2020-01-03T08:44:23.862314Z"
    }
   },
   "outputs": [],
   "source": [
    "def simulate_wait_times(arrival_times,\n",
    "                        rseed=8675309,  # Jenny's random seed\n",
    "                        n_passengers=1000000):\n",
    "    rand = np.random.RandomState(rseed)\n",
    "    \n",
    "    arrival_times = np.asarray(arrival_times)\n",
    "    passenger_times = arrival_times.max() * rand.rand(n_passengers)\n",
    "\n",
    "    # find the index of the next bus for each simulated passenger\n",
    "    i = np.searchsorted(arrival_times, passenger_times, side='right')\n",
    "\n",
    "    return arrival_times[i] - passenger_times"
   ]
  },
  {
   "cell_type": "code",
   "execution_count": null,
   "metadata": {},
   "outputs": [],
   "source": []
  }
 ],
 "metadata": {
  "kernelspec": {
   "display_name": "Python 3",
   "language": "python",
   "name": "python3"
  },
  "language_info": {
   "codemirror_mode": {
    "name": "ipython",
    "version": 3
   },
   "file_extension": ".py",
   "mimetype": "text/x-python",
   "name": "python",
   "nbconvert_exporter": "python",
   "pygments_lexer": "ipython3",
   "version": "3.7.3"
  }
 },
 "nbformat": 4,
 "nbformat_minor": 2
}
