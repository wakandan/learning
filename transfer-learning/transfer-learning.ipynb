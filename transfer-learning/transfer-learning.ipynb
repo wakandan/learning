{
 "cells": [
  {
   "cell_type": "code",
   "execution_count": 1,
   "metadata": {},
   "outputs": [
    {
     "name": "stderr",
     "output_type": "stream",
     "text": [
      "Using TensorFlow backend.\n"
     ]
    }
   ],
   "source": [
    "# importing required libraries\n",
    "%matplotlib inline\n",
    "from keras.models import Sequential\n",
    "from scipy.misc import imread\n",
    "get_ipython().magic('matplotlib inline')\n",
    "import matplotlib.pyplot as plt\n",
    "import numpy as np\n",
    "import keras\n",
    "from keras.layers import Dense\n",
    "import pandas as pd\n",
    "from keras.applications.vgg16 import VGG16\n",
    "from keras.preprocessing import image\n",
    "from keras.applications.vgg16 import preprocess_input\n",
    "import numpy as np\n",
    "from keras.applications.vgg16 import decode_predictions\n",
    "import cv2"
   ]
  },
  {
   "cell_type": "code",
   "execution_count": 2,
   "metadata": {},
   "outputs": [],
   "source": [
    "from keras.datasets import mnist\n",
    "\n",
    "(x_train, y_train), (x_test, y_test) = mnist.load_data()"
   ]
  },
  {
   "cell_type": "code",
   "execution_count": 3,
   "metadata": {},
   "outputs": [
    {
     "data": {
      "text/plain": [
       "<matplotlib.image.AxesImage at 0x7f4edd4cf940>"
      ]
     },
     "execution_count": 3,
     "metadata": {},
     "output_type": "execute_result"
    },
    {
     "data": {
      "image/png": "[encoded data removed]",
      "text/plain": [
       "<Figure size 432x288 with 1 Axes>"
      ]
     },
     "metadata": {},
     "output_type": "display_data"
    }
   ],
   "source": [
    "plt.imshow(x_train[0])"
   ]
  },
  {
   "cell_type": "code",
   "execution_count": 4,
   "metadata": {},
   "outputs": [],
   "source": [
    "def convert(a):\n",
    "    \"\"\"\n",
    "    Upscale mnist 28x28 image to 224x224 image and duplicate gray scale\n",
    "    channel to fake it to RGB image\n",
    "    @param a: np array of shape (28, 28)\n",
    "    @return: np array of shape (224, 224, 3)\n",
    "    \"\"\"\n",
    "    resized_a = cv2.resize(a, dsize=(224, 224), interpolation=cv2.INTER_CUBIC)\n",
    "    stacked_a = np.stack((resized_a,)*3, -1)\n",
    "    return stacked_a"
   ]
  },
  {
   "cell_type": "code",
   "execution_count": 5,
   "metadata": {},
   "outputs": [],
   "source": [
    "new_x_train = []\n",
    "for x in x_train:\n",
    "    new_x_train.append(convert(x))\n",
    "new_x_train = np.asarray(new_x_train)"
   ]
  },
  {
   "cell_type": "code",
   "execution_count": 6,
   "metadata": {},
   "outputs": [
    {
     "data": {
      "text/plain": [
       "(60000, 224, 224, 3)"
      ]
     },
     "execution_count": 6,
     "metadata": {},
     "output_type": "execute_result"
    }
   ],
   "source": [
    "new_x_train.shape"
   ]
  },
  {
   "cell_type": "code",
   "execution_count": 7,
   "metadata": {},
   "outputs": [
    {
     "data": {
      "text/plain": [
       "<matplotlib.image.AxesImage at 0x7f4edd443390>"
      ]
     },
     "execution_count": 7,
     "metadata": {},
     "output_type": "execute_result"
    },
    {
     "data": {
      "image/png": "[encoded data removed]",
      "text/plain": [
       "<Figure size 432x288 with 1 Axes>"
      ]
     },
     "metadata": {},
     "output_type": "display_data"
    }
   ],
   "source": [
    "plt.imshow(new_x_train[0])"
   ]
  },
  {
   "cell_type": "code",
   "execution_count": 8,
   "metadata": {},
   "outputs": [],
   "source": [
    "vgg16_model = VGG16(weights='imagenet', include_top=False)"
   ]
  },
  {
   "cell_type": "code",
   "execution_count": 9,
   "metadata": {},
   "outputs": [],
   "source": [
    "features_train = vgg16_model.predict(new_x_train)"
   ]
  },
  {
   "cell_type": "code",
   "execution_count": 10,
   "metadata": {
    "scrolled": true
   },
   "outputs": [
    {
     "data": {
      "text/plain": [
       "(60000, 7, 7, 512)"
      ]
     },
     "execution_count": 10,
     "metadata": {},
     "output_type": "execute_result"
    }
   ],
   "source": [
    "(features_train.shape)"
   ]
  },
  {
   "cell_type": "code",
   "execution_count": 11,
   "metadata": {},
   "outputs": [],
   "source": [
    "new_x_test = []\n",
    "for x in x_test:\n",
    "    new_x_test.append(convert(x))\n",
    "new_x_test = np.asarray(new_x_test)"
   ]
  },
  {
   "cell_type": "code",
   "execution_count": 12,
   "metadata": {},
   "outputs": [
    {
     "data": {
      "text/plain": [
       "(10000, 224, 224, 3)"
      ]
     },
     "execution_count": 12,
     "metadata": {},
     "output_type": "execute_result"
    }
   ],
   "source": [
    "new_x_test.shape"
   ]
  },
  {
   "cell_type": "code",
   "execution_count": 13,
   "metadata": {},
   "outputs": [],
   "source": [
    "faetures_test = vgg16_model.predict(new_x_test)"
   ]
  },
  {
   "cell_type": "code",
   "execution_count": 14,
   "metadata": {},
   "outputs": [],
   "source": [
    "features_test = faetures_test"
   ]
  },
  {
   "cell_type": "code",
   "execution_count": 15,
   "metadata": {},
   "outputs": [],
   "source": [
    "from keras.layers import Dense, Activation"
   ]
  },
  {
   "cell_type": "code",
   "execution_count": 16,
   "metadata": {},
   "outputs": [],
   "source": [
    "train_x = features_train.reshape(60000, 7*7*512)"
   ]
  },
  {
   "cell_type": "code",
   "execution_count": 17,
   "metadata": {},
   "outputs": [
    {
     "data": {
      "text/plain": [
       "(60000, 25088)"
      ]
     },
     "execution_count": 17,
     "metadata": {},
     "output_type": "execute_result"
    }
   ],
   "source": [
    "train_x.shape"
   ]
  },
  {
   "cell_type": "code",
   "execution_count": 18,
   "metadata": {},
   "outputs": [
    {
     "data": {
      "text/plain": [
       "(60000,)"
      ]
     },
     "execution_count": 18,
     "metadata": {},
     "output_type": "execute_result"
    }
   ],
   "source": [
    "y_train.shape"
   ]
  },
  {
   "cell_type": "code",
   "execution_count": 19,
   "metadata": {},
   "outputs": [
    {
     "data": {
      "text/plain": [
       "(60000, 10)"
      ]
     },
     "execution_count": 19,
     "metadata": {},
     "output_type": "execute_result"
    }
   ],
   "source": [
    "pd.get_dummies(y_train).shape"
   ]
  },
  {
   "cell_type": "code",
   "execution_count": 20,
   "metadata": {},
   "outputs": [],
   "source": [
    "train_y = pd.get_dummies(y_train)"
   ]
  },
  {
   "cell_type": "code",
   "execution_count": 21,
   "metadata": {},
   "outputs": [
    {
     "data": {
      "text/plain": [
       "(60000, 10)"
      ]
     },
     "execution_count": 21,
     "metadata": {},
     "output_type": "execute_result"
    }
   ],
   "source": [
    "train_y.shape"
   ]
  },
  {
   "cell_type": "code",
   "execution_count": 22,
   "metadata": {},
   "outputs": [],
   "source": [
    "from sklearn.model_selection import train_test_split"
   ]
  },
  {
   "cell_type": "code",
   "execution_count": 23,
   "metadata": {},
   "outputs": [],
   "source": [
    "X_train, X_valid, Y_train, Y_valid=train_test_split(train_x,train_y,test_size=0.3, random_state=42)"
   ]
  },
  {
   "cell_type": "code",
   "execution_count": 24,
   "metadata": {},
   "outputs": [],
   "source": [
    "from keras.layers import Dense, Activation"
   ]
  },
  {
   "cell_type": "code",
   "execution_count": 25,
   "metadata": {},
   "outputs": [],
   "source": [
    "model = Sequential()"
   ]
  },
  {
   "cell_type": "code",
   "execution_count": 26,
   "metadata": {},
   "outputs": [],
   "source": [
    "model.add(Dense(1000, input_dim=25088, activation='relu', kernel_initializer='uniform'))"
   ]
  },
  {
   "cell_type": "code",
   "execution_count": 28,
   "metadata": {},
   "outputs": [],
   "source": [
    "model.add(keras.layers.core.Dropout(0.3, noise_shape=None, seed=None))"
   ]
  },
  {
   "cell_type": "code",
   "execution_count": 29,
   "metadata": {},
   "outputs": [],
   "source": [
    "model.add(Dense(500,input_dim=1000,activation='sigmoid'))"
   ]
  },
  {
   "cell_type": "code",
   "execution_count": 30,
   "metadata": {},
   "outputs": [],
   "source": [
    "model.add(keras.layers.core.Dropout(0.4, noise_shape=None, seed=None))"
   ]
  },
  {
   "cell_type": "code",
   "execution_count": 31,
   "metadata": {},
   "outputs": [],
   "source": [
    "model.add(Dense(150,input_dim=500,activation='sigmoid'))"
   ]
  },
  {
   "cell_type": "code",
   "execution_count": 32,
   "metadata": {},
   "outputs": [],
   "source": [
    "model.add(keras.layers.core.Dropout(0.2, noise_shape=None, seed=None))"
   ]
  },
  {
   "cell_type": "code",
   "execution_count": 33,
   "metadata": {},
   "outputs": [],
   "source": [
    "model.add(Dense(units=10))"
   ]
  },
  {
   "cell_type": "code",
   "execution_count": 34,
   "metadata": {},
   "outputs": [],
   "source": [
    "model.add(Activation('softmax'))"
   ]
  },
  {
   "cell_type": "code",
   "execution_count": 35,
   "metadata": {},
   "outputs": [],
   "source": [
    "model.compile(loss='categorical_crossentropy', optimizer='adam', metrics=['accuracy'])"
   ]
  },
  {
   "cell_type": "code",
   "execution_count": 36,
   "metadata": {},
   "outputs": [
    {
     "name": "stdout",
     "output_type": "stream",
     "text": [
      "Train on 42000 samples, validate on 18000 samples\n",
      "Epoch 1/20\n",
      "42000/42000 [==============================] - 15s 352us/step - loss: 0.2628 - acc: 0.9386 - val_loss: 0.0453 - val_acc: 0.9861\n",
      "Epoch 2/20\n",
      "42000/42000 [==============================] - 13s 311us/step - loss: 0.0502 - acc: 0.9869 - val_loss: 0.0325 - val_acc: 0.9894\n",
      "Epoch 3/20\n",
      "42000/42000 [==============================] - 11s 257us/step - loss: 0.0421 - acc: 0.9879 - val_loss: 0.0373 - val_acc: 0.9888\n",
      "Epoch 4/20\n",
      "42000/42000 [==============================] - 12s 279us/step - loss: 0.0370 - acc: 0.9893 - val_loss: 0.0284 - val_acc: 0.9911\n",
      "Epoch 5/20\n",
      "42000/42000 [==============================] - 12s 275us/step - loss: 0.0336 - acc: 0.9901 - val_loss: 0.0324 - val_acc: 0.9903\n",
      "Epoch 6/20\n",
      "42000/42000 [==============================] - 11s 268us/step - loss: 0.0327 - acc: 0.9900 - val_loss: 0.0314 - val_acc: 0.9901\n",
      "Epoch 7/20\n",
      "42000/42000 [==============================] - 11s 263us/step - loss: 0.0294 - acc: 0.9915 - val_loss: 0.0326 - val_acc: 0.9894\n",
      "Epoch 8/20\n",
      "42000/42000 [==============================] - 11s 255us/step - loss: 0.0299 - acc: 0.9910 - val_loss: 0.0280 - val_acc: 0.9919\n",
      "Epoch 9/20\n",
      "42000/42000 [==============================] - 10s 235us/step - loss: 0.0239 - acc: 0.9925 - val_loss: 0.0324 - val_acc: 0.9907\n",
      "Epoch 10/20\n",
      "42000/42000 [==============================] - 10s 237us/step - loss: 0.0216 - acc: 0.9931 - val_loss: 0.0326 - val_acc: 0.9899\n",
      "Epoch 11/20\n",
      "42000/42000 [==============================] - 10s 239us/step - loss: 0.0297 - acc: 0.9905 - val_loss: 0.0335 - val_acc: 0.9909\n",
      "Epoch 12/20\n",
      "42000/42000 [==============================] - 11s 254us/step - loss: 0.0282 - acc: 0.9910 - val_loss: 0.0319 - val_acc: 0.9905\n",
      "Epoch 13/20\n",
      "42000/42000 [==============================] - 12s 275us/step - loss: 0.0254 - acc: 0.9920 - val_loss: 0.0299 - val_acc: 0.9922\n",
      "Epoch 14/20\n",
      "42000/42000 [==============================] - 11s 263us/step - loss: 0.0299 - acc: 0.9909 - val_loss: 0.0299 - val_acc: 0.9913\n",
      "Epoch 15/20\n",
      "42000/42000 [==============================] - 10s 239us/step - loss: 0.0312 - acc: 0.9901 - val_loss: 0.0303 - val_acc: 0.9916\n",
      "Epoch 16/20\n",
      "42000/42000 [==============================] - 14s 331us/step - loss: 0.0250 - acc: 0.9920 - val_loss: 0.0348 - val_acc: 0.9906\n",
      "Epoch 17/20\n",
      "42000/42000 [==============================] - 12s 282us/step - loss: 0.0254 - acc: 0.9918 - val_loss: 0.0311 - val_acc: 0.9909\n",
      "Epoch 18/20\n",
      "42000/42000 [==============================] - 11s 255us/step - loss: 0.0233 - acc: 0.9926 - val_loss: 0.0301 - val_acc: 0.9921\n",
      "Epoch 19/20\n",
      "42000/42000 [==============================] - 10s 231us/step - loss: 0.0257 - acc: 0.9917 - val_loss: 0.0292 - val_acc: 0.9913\n",
      "Epoch 20/20\n",
      "42000/42000 [==============================] - 11s 257us/step - loss: 0.0254 - acc: 0.9923 - val_loss: 0.0312 - val_acc: 0.9907\n"
     ]
    },
    {
     "data": {
      "text/plain": [
       "<keras.callbacks.History at 0x7f4b800aecc0>"
      ]
     },
     "execution_count": 36,
     "metadata": {},
     "output_type": "execute_result"
    }
   ],
   "source": [
    "model.fit(X_train, Y_train, epochs=20, batch_size=128, validation_data=(X_valid, Y_valid))"
   ]
  },
  {
   "cell_type": "code",
   "execution_count": 39,
   "metadata": {},
   "outputs": [
    {
     "data": {
      "text/plain": [
       "array([[  7.01338720e-08,   4.74562694e-06,   5.94020321e-06,\n",
       "          2.94125039e-06,   4.52031600e-07,   4.55816803e-07,\n",
       "          2.53242538e-10,   9.99983311e-01,   1.89544679e-07,\n",
       "          1.85629756e-06]], dtype=float32)"
      ]
     },
     "execution_count": 39,
     "metadata": {},
     "output_type": "execute_result"
    }
   ],
   "source": [
    "model.predict(features_test[0].reshape(1, 7*7*512))"
   ]
  },
  {
   "cell_type": "code",
   "execution_count": 40,
   "metadata": {},
   "outputs": [
    {
     "data": {
      "text/plain": [
       "7"
      ]
     },
     "execution_count": 40,
     "metadata": {},
     "output_type": "execute_result"
    }
   ],
   "source": [
    "y_test[0]"
   ]
  },
  {
   "cell_type": "code",
   "execution_count": 43,
   "metadata": {},
   "outputs": [
    {
     "data": {
      "text/plain": [
       "<matplotlib.image.AxesImage at 0x7f45c81da358>"
      ]
     },
     "execution_count": 43,
     "metadata": {},
     "output_type": "execute_result"
    },
    {
     "data": {
      "image/png": "[encoded data removed]",
      "text/plain": [
       "<Figure size 432x288 with 1 Axes>"
      ]
     },
     "metadata": {},
     "output_type": "display_data"
    }
   ],
   "source": [
    "plt.imshow(x_test[0])"
   ]
  },
  {
   "cell_type": "code",
   "execution_count": null,
   "metadata": {},
   "outputs": [],
   "source": []
  }
 ],
 "metadata": {
  "kernelspec": {
   "display_name": "Python 3",
   "language": "python",
   "name": "python3"
  },
  "language_info": {
   "codemirror_mode": {
    "name": "ipython",
    "version": 3
   },
   "file_extension": ".py",
   "mimetype": "text/x-python",
   "name": "python",
   "nbconvert_exporter": "python",
   "pygments_lexer": "ipython3",
   "version": "3.5.2"
  }
 },
 "nbformat": 4,
 "nbformat_minor": 2
}
